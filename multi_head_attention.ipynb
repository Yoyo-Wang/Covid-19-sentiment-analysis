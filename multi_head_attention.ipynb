{
 "cells": [
  {
   "cell_type": "code",
   "execution_count": 5,
   "metadata": {
    "colab": {
     "base_uri": "https://localhost:8080/",
     "height": 364
    },
    "id": "IesS2Y6AZtjl",
    "outputId": "10c6373a-00a9-47a8-f812-8537db5d53cd"
   },
   "outputs": [
    {
     "name": "stderr",
     "output_type": "stream",
     "text": [
      "[nltk_data] Downloading package stopwords to\n",
      "[nltk_data]     /home/xcs224u/nltk_data...\n",
      "[nltk_data]   Package stopwords is already up-to-date!\n"
     ]
    }
   ],
   "source": [
    "import tensorflow as tf\n",
    "from tensorflow import keras\n",
    "from tensorflow.python.keras.models import Model\n",
    "from tensorflow.keras.preprocessing.text import Tokenizer\n",
    "from tensorflow.keras.preprocessing.sequence import pad_sequences\n",
    "import tensorflow.keras.layers as L\n",
    "import tensorflow.keras.losses as losses\n",
    "from tensorflow.keras.losses import SparseCategoricalCrossentropy\n",
    "from tensorflow.keras import layers\n",
    "from tensorflow.keras.optimizers import Adam\n",
    "from tensorflow.compat.v1.keras.initializers import Constant\n",
    "from sklearn.model_selection import train_test_split\n",
    "from sklearn.metrics import confusion_matrix\n",
    "from sklearn.metrics import classification_report\n",
    "from tensorflow.keras.layers import Add\n",
    "from tensorflow.keras.layers import concatenate\n",
    "\n",
    "import matplotlib.pyplot as plt\n",
    "import plotly.graph_objects as go\n",
    "import plotly.express as px\n",
    "import plotly.figure_factory as ff\n",
    "import seaborn as sns\n",
    "import datetime\n",
    "import calendar\n",
    "from datetime import datetime\n",
    "import numpy as np \n",
    "import pandas as pd\n",
    "\n",
    "import nltk\n",
    "from nltk.stem.porter import PorterStemmer\n",
    "from nltk.tokenize import TweetTokenizer\n",
    "from nltk.tokenize import word_tokenize \n",
    "from nltk.corpus import stopwords\n",
    "nltk.download('stopwords')\n",
    "import re\n",
    "# import utils"
   ]
  },
  {
   "cell_type": "code",
   "execution_count": null,
   "metadata": {
    "id": "3dwqcP49Ztjr"
   },
   "outputs": [],
   "source": [
    "utils.fix_random_seeds()"
   ]
  },
  {
   "cell_type": "code",
   "execution_count": 6,
   "metadata": {
    "colab": {
     "base_uri": "https://localhost:8080/",
     "height": 354
    },
    "id": "Tm8Bchd9Ztju",
    "outputId": "6b2ca863-f7ba-4ad0-92dd-32c8bd5950c5"
   },
   "outputs": [
    {
     "data": {
      "text/html": [
       "<div>\n",
       "<style scoped>\n",
       "    .dataframe tbody tr th:only-of-type {\n",
       "        vertical-align: middle;\n",
       "    }\n",
       "\n",
       "    .dataframe tbody tr th {\n",
       "        vertical-align: top;\n",
       "    }\n",
       "\n",
       "    .dataframe thead th {\n",
       "        text-align: right;\n",
       "    }\n",
       "</style>\n",
       "<table border=\"1\" class=\"dataframe\">\n",
       "  <thead>\n",
       "    <tr style=\"text-align: right;\">\n",
       "      <th></th>\n",
       "      <th>UserName</th>\n",
       "      <th>ScreenName</th>\n",
       "      <th>Location</th>\n",
       "      <th>TweetAt</th>\n",
       "      <th>OriginalTweet</th>\n",
       "      <th>Sentiment</th>\n",
       "    </tr>\n",
       "  </thead>\n",
       "  <tbody>\n",
       "    <tr>\n",
       "      <th>0</th>\n",
       "      <td>3799</td>\n",
       "      <td>48751</td>\n",
       "      <td>London</td>\n",
       "      <td>16-03-2020</td>\n",
       "      <td>@MeNyrbie @Phil_Gahan @Chrisitv https://t.co/i...</td>\n",
       "      <td>Neutral</td>\n",
       "    </tr>\n",
       "    <tr>\n",
       "      <th>1</th>\n",
       "      <td>3800</td>\n",
       "      <td>48752</td>\n",
       "      <td>UK</td>\n",
       "      <td>16-03-2020</td>\n",
       "      <td>advice Talk to your neighbours family to excha...</td>\n",
       "      <td>Positive</td>\n",
       "    </tr>\n",
       "    <tr>\n",
       "      <th>2</th>\n",
       "      <td>3801</td>\n",
       "      <td>48753</td>\n",
       "      <td>Vagabonds</td>\n",
       "      <td>16-03-2020</td>\n",
       "      <td>Coronavirus Australia: Woolworths to give elde...</td>\n",
       "      <td>Positive</td>\n",
       "    </tr>\n",
       "    <tr>\n",
       "      <th>3</th>\n",
       "      <td>3802</td>\n",
       "      <td>48754</td>\n",
       "      <td>NaN</td>\n",
       "      <td>16-03-2020</td>\n",
       "      <td>My food stock is not the only one which is emp...</td>\n",
       "      <td>Positive</td>\n",
       "    </tr>\n",
       "    <tr>\n",
       "      <th>4</th>\n",
       "      <td>3803</td>\n",
       "      <td>48755</td>\n",
       "      <td>NaN</td>\n",
       "      <td>16-03-2020</td>\n",
       "      <td>Me, ready to go at supermarket during the #COV...</td>\n",
       "      <td>Extremely Negative</td>\n",
       "    </tr>\n",
       "  </tbody>\n",
       "</table>\n",
       "</div>"
      ],
      "text/plain": [
       "   UserName  ScreenName   Location     TweetAt  \\\n",
       "0      3799       48751     London  16-03-2020   \n",
       "1      3800       48752         UK  16-03-2020   \n",
       "2      3801       48753  Vagabonds  16-03-2020   \n",
       "3      3802       48754        NaN  16-03-2020   \n",
       "4      3803       48755        NaN  16-03-2020   \n",
       "\n",
       "                                       OriginalTweet           Sentiment  \n",
       "0  @MeNyrbie @Phil_Gahan @Chrisitv https://t.co/i...             Neutral  \n",
       "1  advice Talk to your neighbours family to excha...            Positive  \n",
       "2  Coronavirus Australia: Woolworths to give elde...            Positive  \n",
       "3  My food stock is not the only one which is emp...            Positive  \n",
       "4  Me, ready to go at supermarket during the #COV...  Extremely Negative  "
      ]
     },
     "execution_count": 6,
     "metadata": {},
     "output_type": "execute_result"
    }
   ],
   "source": [
    "train = pd.read_csv('./Corona_NLP_train.csv',encoding='latin1')\n",
    "test = pd.read_csv('./Corona_NLP_test.csv',encoding='latin1')\n",
    "\n",
    "train.head()"
   ]
  },
  {
   "cell_type": "code",
   "execution_count": null,
   "metadata": {
    "id": "GlPjbb3AZtjy"
   },
   "outputs": [],
   "source": []
  },
  {
   "cell_type": "code",
   "execution_count": 7,
   "metadata": {
    "id": "qvzC5fnUZtj2"
   },
   "outputs": [],
   "source": [
    "X = train['OriginalTweet'].copy()\n",
    "y = train['Sentiment'].copy()"
   ]
  },
  {
   "cell_type": "code",
   "execution_count": 8,
   "metadata": {
    "id": "a0LFLOiSZtj5",
    "outputId": "2abc8616-68a7-489f-c389-4c5c7632839c"
   },
   "outputs": [
    {
     "data": {
      "text/plain": [
       "0                                                     \n",
       "1    advice talk neighbours family exchange phone n...\n",
       "2    coronavirus australia: woolworths give elderly...\n",
       "3    my food stock one empty... please, panic, ther...\n",
       "4    me, ready go supermarket outbreak. not i'm par...\n",
       "Name: OriginalTweet, dtype: object"
      ]
     },
     "execution_count": 8,
     "metadata": {},
     "output_type": "execute_result"
    }
   ],
   "source": [
    "def data_cleaner(tweet):\n",
    "    \n",
    "    # remove urls\n",
    "    tweet = re.sub(r'http\\S+', ' ', tweet)\n",
    "    \n",
    "    # remove html tags\n",
    "    tweet = re.sub(r'<.*?>',' ', tweet)\n",
    "    \n",
    "    # remove digits\n",
    "    tweet = re.sub(r'\\d+',' ', tweet)\n",
    "    \n",
    "    # remove hashtags\n",
    "    tweet = re.sub(r'#\\w+',' ', tweet)\n",
    "    \n",
    "    # remove mentions\n",
    "    tweet = re.sub(r'@\\w+',' ', tweet)\n",
    "    \n",
    "    # removing stop words\n",
    "    tweet = tweet.split()\n",
    "    \n",
    "#     tweet = \" \".join([word for word in tweet if not word in stop_words])\n",
    "    # lower case all words\n",
    "    tweet = \" \".join([word.lower() for word in tweet if not word in stop_words])\n",
    "    \n",
    "    return tweet\n",
    "\n",
    "\n",
    "stop_words = stopwords.words('english')\n",
    "\n",
    "X_cleaned = X.apply(data_cleaner)\n",
    "\n",
    "\n",
    "X_cleaned.head()"
   ]
  },
  {
   "cell_type": "code",
   "execution_count": 9,
   "metadata": {
    "id": "0JM_Q5tHZtj8",
    "outputId": "b1d4b8dc-3566-49cd-c28e-6b7e39a89d4b"
   },
   "outputs": [
    {
     "name": "stdout",
     "output_type": "stream",
     "text": [
      "Vocabulary size: 36117\n",
      "\n",
      "Example:\n",
      "\n",
      "Sentence:\n",
      "mdoc horhn ms ms brown mississippi prisoners are going on official food amp water strike april to protest the covid pandemic amp lack of prevententive measures taken by mdoc staff shortage inhumane living conditions poor food quality quality abuse amp demand msleg finalize amp enact sb\n",
      "\n",
      "After tokenizing :\n",
      "[18104, 33691, 9705, 9705, 3611, 12901, 8743, 199, 32, 197, 1552, 5, 9, 311, 3763, 377, 65, 6735, 10, 1, 15, 9, 1058, 386, 33692, 324, 577, 818, 18104, 71, 380, 8120, 695, 1322, 736, 5, 1294, 1294, 2483, 9, 24, 33693, 33694, 9, 5494, 13176]\n",
      "\n",
      "After padding :\n",
      "[18104 33691  9705  9705  3611 12901  8743   199    32   197  1552     5\n",
      "     9   311  3763   377    65  6735    10     1    15     9  1058   386\n",
      " 33692   324   577   818 18104    71   380  8120   695  1322   736     5\n",
      "  1294  1294  2483     9    24 33693 33694     9  5494 13176     0     0\n",
      "     0     0     0     0     0     0]\n"
     ]
    }
   ],
   "source": [
    "tokenizer = Tokenizer()\n",
    "tokenizer.fit_on_texts(X_cleaned)\n",
    "\n",
    "X = tokenizer.texts_to_sequences(X_cleaned)\n",
    "\n",
    "vocab_size = len(tokenizer.word_index)+1\n",
    "\n",
    "idx = 35866\n",
    "print(\"Vocabulary size: {}\".format(vocab_size))\n",
    "print(\"\\nExample:\\n\")\n",
    "print(\"Sentence:\\n{}\".format(X_cleaned[idx]))\n",
    "print(\"\\nAfter tokenizing :\\n{}\".format(X[idx]))\n",
    "\n",
    "X = pad_sequences(X, padding='post')\n",
    "print(\"\\nAfter padding :\\n{}\".format(X[idx]))"
   ]
  },
  {
   "cell_type": "code",
   "execution_count": 10,
   "metadata": {
    "id": "ohV0vqv_Ztj_"
   },
   "outputs": [],
   "source": [
    "encoding = {'Extremely Negative': 0,\n",
    "            'Negative': 0,\n",
    "            'Neutral': 1,\n",
    "            'Positive':2,\n",
    "            'Extremely Positive': 2\n",
    "           }\n",
    "\n",
    "labels = ['Negative', 'Neutral', 'Positive']\n",
    "\n",
    "\n",
    "y.replace(encoding, inplace=True)"
   ]
  },
  {
   "cell_type": "code",
   "execution_count": 11,
   "metadata": {
    "id": "d46IFXlBZtkG"
   },
   "outputs": [],
   "source": [
    "class MultiHeadSelfAttention(layers.Layer):\n",
    "    def __init__(self, embed_dim, num_heads=8):\n",
    "        super(MultiHeadSelfAttention, self).__init__()\n",
    "        self.embed_dim = embed_dim\n",
    "        self.num_heads = num_heads\n",
    "        if embed_dim % num_heads != 0:\n",
    "            raise ValueError(\n",
    "                f\"embedding dimension = {embed_dim} should be divisible by number of heads = {num_heads}\"\n",
    "            )\n",
    "        self.projection_dim = embed_dim // num_heads\n",
    "        self.query_dense = layers.Dense(embed_dim)\n",
    "        self.key_dense = layers.Dense(embed_dim)\n",
    "        self.value_dense = layers.Dense(embed_dim)\n",
    "        self.combine_heads = layers.Dense(embed_dim)\n",
    "\n",
    "    def attention(self, query, key, value):\n",
    "        score = tf.matmul(query, key, transpose_b=True)\n",
    "        dim_key = tf.cast(tf.shape(key)[-1], tf.float32)\n",
    "        scaled_score = score / tf.math.sqrt(dim_key)\n",
    "        weights = tf.nn.softmax(scaled_score, axis=-1)\n",
    "        output = tf.matmul(weights, value)\n",
    "        return output, weights\n",
    "\n",
    "    def separate_heads(self, x, batch_size):\n",
    "        x = tf.reshape(x, (batch_size, -1, self.num_heads, self.projection_dim))\n",
    "        return tf.transpose(x, perm=[0, 2, 1, 3])\n",
    "\n",
    "    def call(self, inputs):\n",
    "        # x.shape = [batch_size, seq_len, embedding_dim]\n",
    "        batch_size = tf.shape(inputs)[0]\n",
    "        query = self.query_dense(inputs)  # (batch_size, seq_len, embed_dim)\n",
    "        key = self.key_dense(inputs)  # (batch_size, seq_len, embed_dim)\n",
    "        value = self.value_dense(inputs)  # (batch_size, seq_len, embed_dim)\n",
    "        query = self.separate_heads(\n",
    "            query, batch_size\n",
    "        )  # (batch_size, num_heads, seq_len, projection_dim)\n",
    "        key = self.separate_heads(\n",
    "            key, batch_size\n",
    "        )  # (batch_size, num_heads, seq_len, projection_dim)\n",
    "        value = self.separate_heads(\n",
    "            value, batch_size\n",
    "        )  # (batch_size, num_heads, seq_len, projection_dim)\n",
    "        attention, weights = self.attention(query, key, value)\n",
    "        attention = tf.transpose(\n",
    "            attention, perm=[0, 2, 1, 3]\n",
    "        )  # (batch_size, seq_len, num_heads, projection_dim)\n",
    "        concat_attention = tf.reshape(\n",
    "            attention, (batch_size, -1, self.embed_dim)\n",
    "        )  # (batch_size, seq_len, embed_dim)\n",
    "        output = self.combine_heads(\n",
    "            concat_attention\n",
    "        )  # (batch_size, seq_len, embed_dim)\n",
    "        return output\n",
    "\n",
    "\n",
    "class TransformerBlock(layers.Layer):\n",
    "    def __init__(self, embed_dim, num_heads, ff_dim, rate=0.4):\n",
    "        super(TransformerBlock, self).__init__()\n",
    "        self.att = MultiHeadSelfAttention(embed_dim, num_heads)\n",
    "        self.ffn = keras.Sequential(\n",
    "            [layers.Dense(ff_dim, activation=\"relu\"), layers.Dense(embed_dim),]\n",
    "        )\n",
    "        self.layernorm1 = layers.LayerNormalization(epsilon=1e-6)\n",
    "        self.layernorm2 = layers.LayerNormalization(epsilon=1e-6)\n",
    "        self.dropout1 = layers.Dropout(rate)\n",
    "        self.dropout2 = layers.Dropout(rate)\n",
    "\n",
    "    def call(self, inputs, training):\n",
    "        attn_output = self.att(inputs)\n",
    "        attn_output = self.dropout1(attn_output, training=training)\n",
    "        out1 = self.layernorm1(inputs + attn_output)\n",
    "        ffn_output = self.ffn(out1)\n",
    "        ffn_output = self.dropout2(ffn_output, training=training)\n",
    "        return self.layernorm2(out1 + ffn_output)\n",
    "\n",
    "    \n",
    "class TokenAndPositionEmbedding(layers.Layer):\n",
    "    def __init__(self, maxlen, vocab_size, embed_dim):\n",
    "        super(TokenAndPositionEmbedding, self).__init__()\n",
    "        self.token_emb = layers.Embedding(input_dim=vocab_size, output_dim=embed_dim)\n",
    "        self.pos_emb = layers.Embedding(input_dim=maxlen, output_dim=embed_dim)\n",
    "\n",
    "    def call(self, x):\n",
    "        maxlen = tf.shape(x)[-1]\n",
    "        positions = tf.range(start=0, limit=maxlen, delta=1)\n",
    "        positions = self.pos_emb(positions)\n",
    "        x = self.token_emb(x)\n",
    "        return x + positions\n",
    "    \n",
    "\n"
   ]
  },
  {
   "cell_type": "code",
   "execution_count": 24,
   "metadata": {
    "id": "KcvD668bZtkI",
    "outputId": "7a26e1bf-bd3a-4b03-bdd0-bf4262bd27b5"
   },
   "outputs": [],
   "source": [
    "embed_dim = 16  # Embedding size for each token\n",
    "num_heads = 2  # Number of attention heads\n",
    "ff_dim = 32  # Hidden layer size in feed forward network inside transformer\n",
    "maxlen = X.shape[-1]\n",
    "inputs = layers.Input(shape=(maxlen,))\n",
    "embedding_layer = TokenAndPositionEmbedding(maxlen, vocab_size, embed_dim)\n",
    "x = embedding_layer(inputs)\n",
    "transformer_block = TransformerBlock(embed_dim, num_heads, ff_dim)\n",
    "x = transformer_block(x)\n",
    "x = layers.GlobalAveragePooling1D()(x)\n",
    "# x = layers.Dropout(0.4)(x)\n",
    "# x = layers.Dense(16, activation=\"relu\")(x)\n",
    "x = layers.Dropout(0.4)(x)\n",
    "outputs = layers.Dense(3, activation=\"softmax\")(x)\n",
    "\n",
    "model = keras.Model(inputs=inputs, outputs=outputs)"
   ]
  },
  {
   "cell_type": "code",
   "execution_count": 25,
   "metadata": {
    "id": "9PVxZl5UZtkM"
   },
   "outputs": [
    {
     "name": "stdout",
     "output_type": "stream",
     "text": [
      "WARNING:tensorflow:Model failed to serialize as JSON. Ignoring... Layer TokenAndPositionEmbedding has arguments in `__init__` and therefore must override `get_config`.\n",
      "Epoch 1/10\n",
      "   2/1132 [..............................] - ETA: 1:59 - loss: 1.1200 - accuracy: 0.3281WARNING:tensorflow:Callbacks method `on_train_batch_end` is slow compared to the batch time (batch time: 0.0262s vs `on_train_batch_end` time: 0.1841s). Check your callbacks.\n",
      "1132/1132 [==============================] - 25s 23ms/step - loss: 0.8894 - accuracy: 0.6491 - val_loss: 0.7572 - val_accuracy: 0.7874\n",
      "Epoch 2/10\n",
      "1132/1132 [==============================] - 27s 24ms/step - loss: 0.7020 - accuracy: 0.8493 - val_loss: 0.6993 - val_accuracy: 0.8494\n",
      "Epoch 3/10\n",
      "1132/1132 [==============================] - 27s 24ms/step - loss: 0.6590 - accuracy: 0.8922 - val_loss: 0.6867 - val_accuracy: 0.8623\n",
      "Epoch 4/10\n",
      "1132/1132 [==============================] - 27s 24ms/step - loss: 0.6417 - accuracy: 0.9094 - val_loss: 0.6843 - val_accuracy: 0.8654\n",
      "Epoch 5/10\n",
      "1132/1132 [==============================] - 27s 24ms/step - loss: 0.6314 - accuracy: 0.9199 - val_loss: 0.6824 - val_accuracy: 0.8666\n",
      "Epoch 6/10\n",
      "1132/1132 [==============================] - 27s 24ms/step - loss: 0.6243 - accuracy: 0.9268 - val_loss: 0.6834 - val_accuracy: 0.8650\n",
      "Epoch 7/10\n",
      "1132/1132 [==============================] - 27s 24ms/step - loss: 0.6207 - accuracy: 0.9310 - val_loss: 0.6856 - val_accuracy: 0.8637\n",
      "Epoch 8/10\n",
      "1132/1132 [==============================] - 27s 24ms/step - loss: 0.6178 - accuracy: 0.9336 - val_loss: 0.6841 - val_accuracy: 0.8656\n",
      "Epoch 9/10\n",
      "1132/1132 [==============================] - 27s 24ms/step - loss: 0.6150 - accuracy: 0.9364 - val_loss: 0.6845 - val_accuracy: 0.8658\n",
      "Epoch 10/10\n",
      "1132/1132 [==============================] - 27s 24ms/step - loss: 0.6122 - accuracy: 0.9390 - val_loss: 0.6824 - val_accuracy: 0.8670\n"
     ]
    }
   ],
   "source": [
    "model.compile(loss=SparseCategoricalCrossentropy(from_logits=True),\n",
    "              optimizer='adam',metrics=['accuracy']\n",
    "             )\n",
    "logdir = \"logs/att_scalars/\" + datetime.now().strftime(\"%Y%m%d-%H%M%S\")\n",
    "tensorboard_callback = keras.callbacks.TensorBoard(log_dir=logdir)\n",
    "history = model.fit(X, y, \n",
    "                    callbacks=[tensorboard_callback],\n",
    "                    epochs=10, validation_split=0.12, batch_size=32)\n"
   ]
  },
  {
   "cell_type": "markdown",
   "metadata": {
    "id": "MkbR0x_pZtkR"
   },
   "source": [
    "# Evaluation"
   ]
  },
  {
   "cell_type": "code",
   "execution_count": 19,
   "metadata": {
    "id": "mRg5zujrZtkS"
   },
   "outputs": [],
   "source": [
    "X_test = test['OriginalTweet'].copy()\n",
    "y_test = test['Sentiment'].copy()\n",
    "\n",
    "X_test = X_test.apply(data_cleaner)\n",
    "\n",
    "X_test = tokenizer.texts_to_sequences(X_test)\n",
    "\n",
    "X_test = pad_sequences(X_test, padding='post')\n",
    "\n",
    "# X_test_day = test['TweetAt'].apply(findDay)\n",
    "y_test.replace(encoding, inplace=True)"
   ]
  },
  {
   "cell_type": "code",
   "execution_count": 20,
   "metadata": {
    "id": "q0IJQbUoZtkV",
    "outputId": "c8e0e381-7846-4293-e761-40b0db168b64"
   },
   "outputs": [
    {
     "name": "stdout",
     "output_type": "stream",
     "text": [
      "WARNING:tensorflow:Model was constructed with shape (None, 54) for input Tensor(\"input_1:0\", shape=(None, 54), dtype=float32), but it was called on an input with incompatible shape (None, 48).\n",
      "Test loss: 0.7122766971588135\n",
      "Test Accuracy: 0.8385992646217346\n"
     ]
    }
   ],
   "source": [
    "# loss, acc = model.evaluate([X_test, X_test_day],y_test,verbose=0)\n",
    "loss, acc = model.evaluate(X_test,y_test,verbose=0)\n",
    "print('Test loss: {}'.format(loss))\n",
    "print('Test Accuracy: {}'.format(acc))"
   ]
  },
  {
   "cell_type": "code",
   "execution_count": 21,
   "metadata": {},
   "outputs": [
    {
     "name": "stdout",
     "output_type": "stream",
     "text": [
      "WARNING:tensorflow:Model was constructed with shape (None, 54) for input Tensor(\"input_1:0\", shape=(None, 54), dtype=float32), but it was called on an input with incompatible shape (None, 48).\n"
     ]
    }
   ],
   "source": [
    "pred = np.argmax(model.predict(X_test), axis=1)"
   ]
  },
  {
   "cell_type": "code",
   "execution_count": 22,
   "metadata": {
    "id": "cx_sQpsbZtkY"
   },
   "outputs": [
    {
     "data": {
      "text/plain": [
       "0.8385250898251286"
      ]
     },
     "execution_count": 22,
     "metadata": {},
     "output_type": "execute_result"
    }
   ],
   "source": [
    "from sklearn.metrics import f1_score\n",
    "\n",
    "def f1_score_func(preds, labels):\n",
    "    preds_flat = preds.flatten()\n",
    "    labels_flat = labels.tolist()\n",
    "    return f1_score(labels_flat, preds_flat, average='weighted')\n",
    "\n",
    "f1_score_func(pred, y_test)"
   ]
  },
  {
   "cell_type": "code",
   "execution_count": 23,
   "metadata": {
    "id": "H34YU4RtZtkm"
   },
   "outputs": [
    {
     "data": {
      "text/plain": [
       "<matplotlib.axes._subplots.AxesSubplot at 0x7f6fd5f85110>"
      ]
     },
     "execution_count": 23,
     "metadata": {},
     "output_type": "execute_result"
    },
    {
     "data": {
      "image/png": "[encoded data removed]",
      "text/plain": [
       "<Figure size 432x288 with 2 Axes>"
      ]
     },
     "metadata": {
      "needs_background": "light"
     },
     "output_type": "display_data"
    }
   ],
   "source": [
    "from sklearn.metrics import confusion_matrix\n",
    "import seaborn as sns\n",
    "confusion_mat = confusion_matrix(y_true = y_test, y_pred = pred)\n",
    "sns.heatmap(confusion_mat, annot=True, \n",
    "            xticklabels=['negative','neutral','positive'],\n",
    "            yticklabels=['negative','neutral','positive'])"
   ]
  },
  {
   "cell_type": "code",
   "execution_count": null,
   "metadata": {},
   "outputs": [],
   "source": []
  }
 ],
 "metadata": {
  "colab": {
   "collapsed_sections": [],
   "name": "multi-head attention.ipynb",
   "provenance": []
  },
  "kernelspec": {
   "display_name": "Python 3",
   "language": "python",
   "name": "python3"
  },
  "language_info": {
   "codemirror_mode": {
    "name": "ipython",
    "version": 3
   },
   "file_extension": ".py",
   "mimetype": "text/x-python",
   "name": "python",
   "nbconvert_exporter": "python",
   "pygments_lexer": "ipython3",
   "version": "3.7.7"
  }
 },
 "nbformat": 4,
 "nbformat_minor": 1
}
