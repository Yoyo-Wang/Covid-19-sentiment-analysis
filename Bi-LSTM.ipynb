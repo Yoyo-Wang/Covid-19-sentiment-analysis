{
 "cells": [
  {
   "cell_type": "code",
   "execution_count": 20,
   "metadata": {},
   "outputs": [
    {
     "name": "stderr",
     "output_type": "stream",
     "text": [
      "[nltk_data] Downloading package stopwords to\n",
      "[nltk_data]     /home/xcs224u/nltk_data...\n",
      "[nltk_data]   Package stopwords is already up-to-date!\n"
     ]
    }
   ],
   "source": [
    "import tensorflow as tf\n",
    "from tensorflow import keras\n",
    "from tensorflow.python.keras.models import Model\n",
    "from tensorflow.keras.preprocessing.text import Tokenizer\n",
    "from tensorflow.keras.preprocessing.sequence import pad_sequences\n",
    "import tensorflow.keras.layers as L\n",
    "from tensorflow.keras.losses import SparseCategoricalCrossentropy\n",
    "from tensorflow.keras.optimizers import Adam\n",
    "from tensorflow.compat.v1.keras.initializers import Constant\n",
    "from sklearn.model_selection import train_test_split\n",
    "from sklearn.metrics import confusion_matrix\n",
    "from sklearn.metrics import classification_report\n",
    "from tensorflow.keras.layers import Add\n",
    "from tensorflow.keras.layers import concatenate\n",
    "from datetime import datetime\n",
    "\n",
    "import matplotlib.pyplot as plt\n",
    "import plotly.graph_objects as go\n",
    "import plotly.express as px\n",
    "import plotly.figure_factory as ff\n",
    "import seaborn as sns\n",
    "\n",
    "import numpy as np \n",
    "import pandas as pd\n",
    "\n",
    "import nltk\n",
    "from nltk.stem.porter import PorterStemmer\n",
    "from nltk.tokenize import TweetTokenizer\n",
    "from nltk.tokenize import word_tokenize \n",
    "from nltk.corpus import stopwords\n",
    "nltk.download('stopwords')\n",
    "import re\n",
    "\n"
   ]
  },
  {
   "cell_type": "code",
   "execution_count": 2,
   "metadata": {},
   "outputs": [
    {
     "data": {
      "text/html": [
       "<div>\n",
       "<style scoped>\n",
       "    .dataframe tbody tr th:only-of-type {\n",
       "        vertical-align: middle;\n",
       "    }\n",
       "\n",
       "    .dataframe tbody tr th {\n",
       "        vertical-align: top;\n",
       "    }\n",
       "\n",
       "    .dataframe thead th {\n",
       "        text-align: right;\n",
       "    }\n",
       "</style>\n",
       "<table border=\"1\" class=\"dataframe\">\n",
       "  <thead>\n",
       "    <tr style=\"text-align: right;\">\n",
       "      <th></th>\n",
       "      <th>UserName</th>\n",
       "      <th>ScreenName</th>\n",
       "      <th>Location</th>\n",
       "      <th>TweetAt</th>\n",
       "      <th>OriginalTweet</th>\n",
       "      <th>Sentiment</th>\n",
       "    </tr>\n",
       "  </thead>\n",
       "  <tbody>\n",
       "    <tr>\n",
       "      <th>0</th>\n",
       "      <td>3799</td>\n",
       "      <td>48751</td>\n",
       "      <td>London</td>\n",
       "      <td>16-03-2020</td>\n",
       "      <td>@MeNyrbie @Phil_Gahan @Chrisitv https://t.co/i...</td>\n",
       "      <td>Neutral</td>\n",
       "    </tr>\n",
       "    <tr>\n",
       "      <th>1</th>\n",
       "      <td>3800</td>\n",
       "      <td>48752</td>\n",
       "      <td>UK</td>\n",
       "      <td>16-03-2020</td>\n",
       "      <td>advice Talk to your neighbours family to excha...</td>\n",
       "      <td>Positive</td>\n",
       "    </tr>\n",
       "    <tr>\n",
       "      <th>2</th>\n",
       "      <td>3801</td>\n",
       "      <td>48753</td>\n",
       "      <td>Vagabonds</td>\n",
       "      <td>16-03-2020</td>\n",
       "      <td>Coronavirus Australia: Woolworths to give elde...</td>\n",
       "      <td>Positive</td>\n",
       "    </tr>\n",
       "    <tr>\n",
       "      <th>3</th>\n",
       "      <td>3802</td>\n",
       "      <td>48754</td>\n",
       "      <td>NaN</td>\n",
       "      <td>16-03-2020</td>\n",
       "      <td>My food stock is not the only one which is emp...</td>\n",
       "      <td>Positive</td>\n",
       "    </tr>\n",
       "    <tr>\n",
       "      <th>4</th>\n",
       "      <td>3803</td>\n",
       "      <td>48755</td>\n",
       "      <td>NaN</td>\n",
       "      <td>16-03-2020</td>\n",
       "      <td>Me, ready to go at supermarket during the #COV...</td>\n",
       "      <td>Extremely Negative</td>\n",
       "    </tr>\n",
       "  </tbody>\n",
       "</table>\n",
       "</div>"
      ],
      "text/plain": [
       "   UserName  ScreenName   Location     TweetAt  \\\n",
       "0      3799       48751     London  16-03-2020   \n",
       "1      3800       48752         UK  16-03-2020   \n",
       "2      3801       48753  Vagabonds  16-03-2020   \n",
       "3      3802       48754        NaN  16-03-2020   \n",
       "4      3803       48755        NaN  16-03-2020   \n",
       "\n",
       "                                       OriginalTweet           Sentiment  \n",
       "0  @MeNyrbie @Phil_Gahan @Chrisitv https://t.co/i...             Neutral  \n",
       "1  advice Talk to your neighbours family to excha...            Positive  \n",
       "2  Coronavirus Australia: Woolworths to give elde...            Positive  \n",
       "3  My food stock is not the only one which is emp...            Positive  \n",
       "4  Me, ready to go at supermarket during the #COV...  Extremely Negative  "
      ]
     },
     "execution_count": 2,
     "metadata": {},
     "output_type": "execute_result"
    }
   ],
   "source": [
    "train = pd.read_csv('./Corona_NLP_train.csv',encoding='latin1')\n",
    "test = pd.read_csv('./Corona_NLP_test.csv',encoding='latin1')\n",
    "\n",
    "train.head()"
   ]
  },
  {
   "cell_type": "code",
   "execution_count": 3,
   "metadata": {},
   "outputs": [],
   "source": [
    "# import datetime\n",
    "# import calendar\n",
    "\n",
    "# def findDay(date): \n",
    "#     born = datetime.datetime.strptime(date, '%d-%m-%Y').weekday() \n",
    "#     return born+1"
   ]
  },
  {
   "cell_type": "code",
   "execution_count": 4,
   "metadata": {},
   "outputs": [],
   "source": [
    "X = train['OriginalTweet'].copy()\n",
    "# X = train[['OriginalTweet', 'TweetAt']].copy()\n",
    "y = train['Sentiment'].copy()"
   ]
  },
  {
   "cell_type": "code",
   "execution_count": 5,
   "metadata": {},
   "outputs": [
    {
     "data": {
      "text/plain": [
       "0                                                     \n",
       "1    advice talk neighbours family exchange phone n...\n",
       "2    coronavirus australia: woolworths give elderly...\n",
       "3    my food stock one empty... please, panic, ther...\n",
       "4    me, ready go supermarket outbreak. not i'm par...\n",
       "Name: OriginalTweet, dtype: object"
      ]
     },
     "execution_count": 5,
     "metadata": {},
     "output_type": "execute_result"
    }
   ],
   "source": [
    "def data_cleaner(tweet):\n",
    "    \n",
    "    # remove urls\n",
    "    tweet = re.sub(r'http\\S+', ' ', tweet)\n",
    "    \n",
    "    # remove html tags\n",
    "    tweet = re.sub(r'<.*?>',' ', tweet)\n",
    "    \n",
    "    # remove digits\n",
    "    tweet = re.sub(r'\\d+',' ', tweet)\n",
    "    \n",
    "    # remove hashtags\n",
    "    tweet = re.sub(r'#\\w+',' ', tweet)\n",
    "    \n",
    "    # remove mentions\n",
    "    tweet = re.sub(r'@\\w+',' ', tweet)\n",
    "    \n",
    "    # removing stop words\n",
    "    tweet = tweet.split()\n",
    "    \n",
    "#     tweet = \" \".join([word for word in tweet if not word in stop_words])\n",
    "    # lower case all words\n",
    "    tweet = \" \".join([word.lower() for word in tweet if not word in stop_words])\n",
    "    \n",
    "    return tweet\n",
    "\n",
    "\n",
    "stop_words = stopwords.words('english')\n",
    "\n",
    "X_cleaned = X.apply(data_cleaner)\n",
    "\n",
    "# add day of week to model\n",
    "# X_train_day = train['TweetAt'].apply(findDay)\n",
    "\n",
    "X_cleaned.head()"
   ]
  },
  {
   "cell_type": "code",
   "execution_count": 6,
   "metadata": {},
   "outputs": [
    {
     "name": "stdout",
     "output_type": "stream",
     "text": [
      "Vocabulary size: 36117\n",
      "\n",
      "Example:\n",
      "\n",
      "Sentence:\n",
      "mdoc horhn ms ms brown mississippi prisoners are going on official food amp water strike april to protest the covid pandemic amp lack of prevententive measures taken by mdoc staff shortage inhumane living conditions poor food quality quality abuse amp demand msleg finalize amp enact sb\n",
      "\n",
      "After tokenizing :\n",
      "[18104, 33691, 9705, 9705, 3611, 12901, 8743, 199, 32, 197, 1552, 5, 9, 311, 3763, 377, 65, 6735, 10, 1, 15, 9, 1058, 386, 33692, 324, 577, 818, 18104, 71, 380, 8120, 695, 1322, 736, 5, 1294, 1294, 2483, 9, 24, 33693, 33694, 9, 5494, 13176]\n",
      "\n",
      "After padding :\n",
      "[18104 33691  9705  9705  3611 12901  8743   199    32   197  1552     5\n",
      "     9   311  3763   377    65  6735    10     1    15     9  1058   386\n",
      " 33692   324   577   818 18104    71   380  8120   695  1322   736     5\n",
      "  1294  1294  2483     9    24 33693 33694     9  5494 13176     0     0\n",
      "     0     0     0     0     0     0]\n"
     ]
    }
   ],
   "source": [
    "tokenizer = Tokenizer()\n",
    "\n",
    "tokenizer.fit_on_texts(X_cleaned)\n",
    "\n",
    "X = tokenizer.texts_to_sequences(X_cleaned)\n",
    "\n",
    "vocab_size = len(tokenizer.word_index)+1\n",
    "\n",
    "idx = 35866\n",
    "print(\"Vocabulary size: {}\".format(vocab_size))\n",
    "print(\"\\nExample:\\n\")\n",
    "print(\"Sentence:\\n{}\".format(X_cleaned[idx]))\n",
    "print(\"\\nAfter tokenizing :\\n{}\".format(X[idx]))\n",
    "\n",
    "X = pad_sequences(X, padding='post')\n",
    "print(\"\\nAfter padding :\\n{}\".format(X[idx]))"
   ]
  },
  {
   "cell_type": "code",
   "execution_count": 7,
   "metadata": {},
   "outputs": [
    {
     "name": "stdout",
     "output_type": "stream",
     "text": [
      "Vocabulary size: 36117\n",
      "\n",
      "Example:\n",
      "\n",
      "Sentence:\n",
      "mdoc horhn ms ms brown mississippi prisoners are going on official food amp water strike april to protest the covid pandemic amp lack of prevententive measures taken by mdoc staff shortage inhumane living conditions poor food quality quality abuse amp demand msleg finalize amp enact sb\n",
      "\n",
      "After tokenizing :\n",
      "[18104, 33691, 9705, 9705, 3611, 12901, 8743, 199, 32, 197, 1552, 5, 9, 311, 3763, 377, 65, 6735, 10, 1, 15, 9, 1058, 386, 33692, 324, 577, 818, 18104, 71, 380, 8120, 695, 1322, 736, 5, 1294, 1294, 2483, 9, 24, 33693, 33694, 9, 5494, 13176]\n",
      "\n",
      "After padding :\n",
      "[18104 33691  9705  9705  3611 12901  8743   199    32   197  1552     5\n",
      "     9   311  3763   377    65  6735    10     1    15     9  1058   386\n",
      " 33692   324   577   818 18104    71   380  8120   695  1322   736     5\n",
      "  1294  1294  2483     9    24 33693 33694     9  5494 13176     0     0\n",
      "     0     0     0     0     0     0]\n"
     ]
    }
   ],
   "source": [
    "X = tokenizer.texts_to_sequences(X_cleaned)\n",
    "\n",
    "vocab_size = len(tokenizer.word_index)+1\n",
    "\n",
    "idx = 35866\n",
    "print(\"Vocabulary size: {}\".format(vocab_size))\n",
    "print(\"\\nExample:\\n\")\n",
    "print(\"Sentence:\\n{}\".format(X_cleaned[idx]))\n",
    "print(\"\\nAfter tokenizing :\\n{}\".format(X[idx]))\n",
    "\n",
    "X = pad_sequences(X, padding='post')\n",
    "print(\"\\nAfter padding :\\n{}\".format(X[idx]))"
   ]
  },
  {
   "cell_type": "code",
   "execution_count": 8,
   "metadata": {},
   "outputs": [],
   "source": [
    "encoding = {'Extremely Negative': 0,\n",
    "            'Negative': 0,\n",
    "            'Neutral': 1,\n",
    "            'Positive':2,\n",
    "            'Extremely Positive': 2\n",
    "           }\n",
    "\n",
    "labels = ['Negative', 'Neutral', 'Positive']\n",
    "\n",
    "\n",
    "y.replace(encoding, inplace=True)"
   ]
  },
  {
   "cell_type": "markdown",
   "metadata": {},
   "source": [
    "# Original Model"
   ]
  },
  {
   "cell_type": "code",
   "execution_count": 41,
   "metadata": {},
   "outputs": [
    {
     "name": "stdout",
     "output_type": "stream",
     "text": [
      "Model: \"sequential\"\n",
      "_________________________________________________________________\n",
      "Layer (type)                 Output Shape              Param #   \n",
      "=================================================================\n",
      "embedding (Embedding)        (None, 54, 16)            577872    \n",
      "_________________________________________________________________\n",
      "bidirectional (Bidirectional (None, 54, 512)           559104    \n",
      "_________________________________________________________________\n",
      "global_max_pooling1d (Global (None, 512)               0         \n",
      "_________________________________________________________________\n",
      "dropout (Dropout)            (None, 512)               0         \n",
      "_________________________________________________________________\n",
      "dense (Dense)                (None, 64)                32832     \n",
      "_________________________________________________________________\n",
      "dropout_1 (Dropout)          (None, 64)                0         \n",
      "_________________________________________________________________\n",
      "dense_1 (Dense)              (None, 3)                 195       \n",
      "=================================================================\n",
      "Total params: 1,170,003\n",
      "Trainable params: 1,170,003\n",
      "Non-trainable params: 0\n",
      "_________________________________________________________________\n"
     ]
    }
   ],
   "source": [
    "tf.keras.backend.clear_session()\n",
    "\n",
    "# hyper parameters\n",
    "EPOCHS = 10\n",
    "BATCH_SIZE = 32\n",
    "embedding_dim = 16\n",
    "units = 256\n",
    "\n",
    "model = tf.keras.Sequential([\n",
    "    L.Embedding(vocab_size, embedding_dim, input_length=X.shape[1]),\n",
    "    L.Bidirectional(L.LSTM(units,return_sequences=True)),\n",
    "    L.GlobalMaxPool1D(),\n",
    "    L.Dropout(0.4),\n",
    "    L.Dense(64, activation=\"relu\"),\n",
    "    L.Dropout(0.4),\n",
    "    L.Dense(3)\n",
    "])\n",
    "\n",
    "\n",
    "model.compile(loss=SparseCategoricalCrossentropy(from_logits=True),\n",
    "              optimizer='adam',metrics=['accuracy']\n",
    "             )\n",
    "\n",
    "model.summary()"
   ]
  },
  {
   "cell_type": "code",
   "execution_count": 42,
   "metadata": {},
   "outputs": [
    {
     "name": "stdout",
     "output_type": "stream",
     "text": [
      "Epoch 1/10\n",
      "   2/1132 [..............................] - ETA: 2:12 - loss: 1.0994 - accuracy: 0.3438WARNING:tensorflow:Callbacks method `on_train_batch_end` is slow compared to the batch time (batch time: 0.0437s vs `on_train_batch_end` time: 0.1907s). Check your callbacks.\n",
      "1132/1132 [==============================] - 40s 35ms/step - loss: 0.6666 - accuracy: 0.7107 - val_loss: 0.3873 - val_accuracy: 0.8686\n",
      "Epoch 2/10\n",
      "1132/1132 [==============================] - 43s 38ms/step - loss: 0.3336 - accuracy: 0.8937 - val_loss: 0.3562 - val_accuracy: 0.8812\n",
      "Epoch 3/10\n",
      "1132/1132 [==============================] - 44s 38ms/step - loss: 0.2297 - accuracy: 0.9292 - val_loss: 0.4090 - val_accuracy: 0.8726\n",
      "Epoch 4/10\n",
      "1132/1132 [==============================] - 43s 38ms/step - loss: 0.1774 - accuracy: 0.9456 - val_loss: 0.4389 - val_accuracy: 0.8554\n",
      "Epoch 5/10\n",
      "1132/1132 [==============================] - 43s 38ms/step - loss: 0.1454 - accuracy: 0.9547 - val_loss: 0.5659 - val_accuracy: 0.8548\n",
      "Epoch 6/10\n",
      "1132/1132 [==============================] - 44s 39ms/step - loss: 0.1171 - accuracy: 0.9628 - val_loss: 0.5601 - val_accuracy: 0.8413\n",
      "Epoch 7/10\n",
      "1132/1132 [==============================] - 42s 37ms/step - loss: 0.0991 - accuracy: 0.9681 - val_loss: 0.6448 - val_accuracy: 0.8435\n",
      "Epoch 8/10\n",
      "1132/1132 [==============================] - 36s 32ms/step - loss: 0.0848 - accuracy: 0.9721 - val_loss: 0.7448 - val_accuracy: 0.8338\n",
      "Epoch 9/10\n",
      "1132/1132 [==============================] - 36s 32ms/step - loss: 0.0716 - accuracy: 0.9772 - val_loss: 0.8513 - val_accuracy: 0.8251\n",
      "Epoch 10/10\n",
      "1132/1132 [==============================] - 36s 32ms/step - loss: 0.0591 - accuracy: 0.9806 - val_loss: 1.0315 - val_accuracy: 0.8105\n"
     ]
    }
   ],
   "source": [
    "logdir = \"logs/lstm_scalars/\" + datetime.now().strftime(\"%Y%m%d-%H%M%S\")\n",
    "tensorboard_callback = keras.callbacks.TensorBoard(log_dir=logdir)\n",
    "history = model.fit(X, y, \n",
    "                    callbacks=[tensorboard_callback],\n",
    "                    epochs=EPOCHS, validation_split=0.12, batch_size=BATCH_SIZE)"
   ]
  },
  {
   "cell_type": "markdown",
   "metadata": {},
   "source": [
    "# Evaluation"
   ]
  },
  {
   "cell_type": "code",
   "execution_count": 23,
   "metadata": {},
   "outputs": [],
   "source": [
    "X_test = test['OriginalTweet'].copy()\n",
    "y_test = test['Sentiment'].copy()\n",
    "\n",
    "X_test = X_test.apply(data_cleaner)\n",
    "\n",
    "X_test = tokenizer.texts_to_sequences(X_test)\n",
    "\n",
    "X_test = pad_sequences(X_test, padding='post')\n",
    "\n",
    "# X_test_day = test['TweetAt'].apply(findDay)\n",
    "y_test.replace(encoding, inplace=True)"
   ]
  },
  {
   "cell_type": "code",
   "execution_count": 30,
   "metadata": {},
   "outputs": [],
   "source": [
    "pred = np.argmax(model.predict(X_test), axis=1)"
   ]
  },
  {
   "cell_type": "code",
   "execution_count": 27,
   "metadata": {},
   "outputs": [
    {
     "name": "stdout",
     "output_type": "stream",
     "text": [
      "WARNING:tensorflow:Model was constructed with shape (None, 54) for input Tensor(\"embedding_input:0\", shape=(None, 54), dtype=float32), but it was called on an input with incompatible shape (None, 48).\n",
      "Test loss: 0.42761895060539246\n",
      "Test Accuracy: 0.8478146195411682\n"
     ]
    }
   ],
   "source": [
    "# loss, acc = model.evaluate([X_test, X_test_day],y_test,verbose=0)\n",
    "loss, acc = model.evaluate(X_test,y_test,verbose=0)\n",
    "print('Test loss: {}'.format(loss))\n",
    "print('Test Accuracy: {}'.format(acc))"
   ]
  },
  {
   "cell_type": "code",
   "execution_count": 39,
   "metadata": {},
   "outputs": [
    {
     "data": {
      "text/plain": [
       "0.8476314059786496"
      ]
     },
     "execution_count": 39,
     "metadata": {},
     "output_type": "execute_result"
    }
   ],
   "source": [
    "from sklearn.metrics import f1_score\n",
    "\n",
    "def f1_score_func(preds, labels):\n",
    "    preds_flat = preds.flatten()\n",
    "    labels_flat = labels.tolist()\n",
    "    return f1_score(labels_flat, preds_flat, average='weighted')\n",
    "\n",
    "f1_score_func(pred, y_test)"
   ]
  },
  {
   "cell_type": "code",
   "execution_count": 40,
   "metadata": {},
   "outputs": [
    {
     "data": {
      "text/plain": [
       "<matplotlib.axes._subplots.AxesSubplot at 0x7f0610405b50>"
      ]
     },
     "execution_count": 40,
     "metadata": {},
     "output_type": "execute_result"
    },
    {
     "data": {
      "image/png": "[encoded data removed]",
      "text/plain": [
       "<Figure size 432x288 with 2 Axes>"
      ]
     },
     "metadata": {
      "needs_background": "light"
     },
     "output_type": "display_data"
    }
   ],
   "source": [
    "from sklearn.metrics import confusion_matrix\n",
    "import seaborn as sns\n",
    "confusion_mat = confusion_matrix(y_true = y_test, y_pred = pred)\n",
    "sns.heatmap(confusion_mat, annot=True, \n",
    "            xticklabels=['negative','neutral','positive'],\n",
    "            yticklabels=['negative','neutral','positive'])"
   ]
  },
  {
   "cell_type": "code",
   "execution_count": null,
   "metadata": {},
   "outputs": [],
   "source": []
  }
 ],
 "metadata": {
  "kernelspec": {
   "display_name": "Python 3",
   "language": "python",
   "name": "python3"
  },
  "language_info": {
   "codemirror_mode": {
    "name": "ipython",
    "version": 3
   },
   "file_extension": ".py",
   "mimetype": "text/x-python",
   "name": "python",
   "nbconvert_exporter": "python",
   "pygments_lexer": "ipython3",
   "version": "3.7.7"
  }
 },
 "nbformat": 4,
 "nbformat_minor": 4
}
